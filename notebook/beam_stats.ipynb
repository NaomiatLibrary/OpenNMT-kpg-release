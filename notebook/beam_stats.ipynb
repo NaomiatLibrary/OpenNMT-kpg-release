{
 "cells": [
  {
   "cell_type": "code",
   "execution_count": 8,
   "metadata": {
    "collapsed": true
   },
   "outputs": [],
   "source": [
    "pred_dir = \"/Users/memray/Project/keyphrase/OpenNMT-kpg/output/meng17-one2many-beam10-maxlen40/pred\""
   ]
  },
  {
   "cell_type": "code",
   "execution_count": 2,
   "metadata": {},
   "outputs": [],
   "source": [
    "import os\n",
    "import json"
   ]
  },
  {
   "cell_type": "code",
   "execution_count": null,
   "metadata": {},
   "outputs": [],
   "source": [
    "ckpt_list = [\"kp20k-meng17-length-rnn-BS64-LR0.05-Layer1-Dim150-Emb100-Dropout0.0-Copytrue-Reusetrue-Covtrue-PEfalse-Contboth-IF1_step_90000\", \"kp20k-meng17-random-rnn-BS64-LR0.05-Layer1-Dim150-Emb100-Dropout0.0-Copytrue-Reusetrue-Covtrue-PEfalse-Contboth-IF1_step_90000\", \n",
    "\"kp20k-meng17-alphabetical-rnn-BS64-LR0.05-Layer1-Dim150-Emb100-Dropout0.0-Copytrue-Reusetrue-Covtrue-PEfalse-Contboth-IF1_step_70000\", \n",
    "\"kp20k-meng17-no_sort-rnn-BS64-LR0.05-Layer1-Dim150-Emb100-Dropout0.0-Copytrue-Reusetrue-Covtrue-PEfalse-Contboth-IF1_step_90000\", \n",
    "\"kp20k-meng17-verbatim_prepend-rnn-BS64-LR0.05-Layer1-Dim150-Emb100-Dropout0.0-Copytrue-Reusetrue-Covtrue-PEfalse-Contboth-IF1_step_65000\", \n",
    "\"kp20k-meng17-verbatim_append-rnn-BS64-LR0.05-Layer1-Dim150-Emb100-Dropout0.0-Copytrue-Reusetrue-Covtrue-PEfalse-Contboth-IF1_step_50000\"]"
   ]
  },
  {
   "cell_type": "code",
   "execution_count": 3,
   "metadata": {},
   "outputs": [],
   "source": [
    "datasets = [\"kp20k_valid500\", \"duc\", \"inspec\", \"krapivin\", \"nus\", \"semeval\"]"
   ]
  },
  {
   "cell_type": "code",
   "execution_count": 20,
   "metadata": {
    "collapsed": true
   },
   "outputs": [
    {
     "name": "stdout",
     "output_type": "stream",
     "text": [
      "kp20k-meng17-length-rnn-BS64-LR0.05-Layer1-Dim150-Emb100-Dropout0.0-Copytrue-Reusetrue-Covtrue-PEfalse-Contboth-IF1_step_90000\n44297\n"
     ]
    },
    {
     "name": "stdout",
     "output_type": "stream",
     "text": [
      "80496\n126943\n"
     ]
    },
    {
     "name": "stdout",
     "output_type": "stream",
     "text": [
      "166049\n186091\n194660\nkp20k-meng17-random-rnn-BS64-LR0.05-Layer1-Dim150-Emb100-Dropout0.0-Copytrue-Reusetrue-Covtrue-PEfalse-Contboth-IF1_step_90000\n88390\n"
     ]
    },
    {
     "name": "stdout",
     "output_type": "stream",
     "text": [
      "163454\n243031\n306603\n"
     ]
    },
    {
     "name": "stdout",
     "output_type": "stream",
     "text": [
      "337194\n350751\nkp20k-meng17-alphabetical-rnn-BS64-LR0.05-Layer1-Dim150-Emb100-Dropout0.0-Copytrue-Reusetrue-Covtrue-PEfalse-Contboth-IF1_step_70000\n80127\n"
     ]
    },
    {
     "name": "stdout",
     "output_type": "stream",
     "text": [
      "148773\n244356\n"
     ]
    },
    {
     "name": "stdout",
     "output_type": "stream",
     "text": [
      "311582\n339008\n351476\nkp20k-meng17-no_sort-rnn-BS64-LR0.05-Layer1-Dim150-Emb100-Dropout0.0-Copytrue-Reusetrue-Covtrue-PEfalse-Contboth-IF1_step_90000\n96323\n"
     ]
    },
    {
     "name": "stdout",
     "output_type": "stream",
     "text": [
      "194150\n291413\n"
     ]
    },
    {
     "name": "stdout",
     "output_type": "stream",
     "text": [
      "368299\n403866\n419570\nkp20k-meng17-verbatim_prepend-rnn-BS64-LR0.05-Layer1-Dim150-Emb100-Dropout0.0-Copytrue-Reusetrue-Covtrue-PEfalse-Contboth-IF1_step_65000\n78480\n"
     ]
    },
    {
     "name": "stdout",
     "output_type": "stream",
     "text": [
      "140857\n208477\n265226\n"
     ]
    },
    {
     "name": "stdout",
     "output_type": "stream",
     "text": [
      "295064\n309370\nkp20k-meng17-verbatim_append-rnn-BS64-LR0.05-Layer1-Dim150-Emb100-Dropout0.0-Copytrue-Reusetrue-Covtrue-PEfalse-Contboth-IF1_step_50000\n"
     ]
    },
    {
     "name": "stdout",
     "output_type": "stream",
     "text": [
      "200996\n326339\n"
     ]
    },
    {
     "name": "stdout",
     "output_type": "stream",
     "text": [
      "540482\n723039\n"
     ]
    },
    {
     "name": "stdout",
     "output_type": "stream",
     "text": [
      "810702\n849983\n"
     ]
    }
   ],
   "source": [
    "\n",
    "for ckpt in ckpt_list:\n",
    "    print(ckpt)\n",
    "    \n",
    "    beam_num = []\n",
    "    beam_len = []\n",
    "    for dataset in datasets:\n",
    "        # print(dataset)\n",
    "        \n",
    "        pred_json_path = os.path.join(pred_dir, ckpt, dataset + '.pred')\n",
    "        for jsonl in open(pred_json_path, 'r'):\n",
    "            pred = json.loads(jsonl)\n",
    "            beams = pred[\"ori_pred_sents\"]\n",
    "            beam_num.append(len(beams))\n",
    "            beam_len.extend([len(b) for b in beams])\n",
    "        \n",
    "        # print(\"beam number: total=%d, avg=%f\" % (sum(beam_num), sum(beam_num)/len(beam_num)))\n",
    "        # print(\"beam length: total=%d, avg=%f\" % (sum(beam_len), sum(beam_len)/len(beam_len)))\n",
    "        # print(\"%d\\t%f\\t%d\\t%f\" % (sum(beam_num), sum(beam_num)/len(beam_num), sum(beam_len), sum(beam_len)/len(beam_len)))\n",
    "        print(sum(beam_len))"
   ]
  },
  {
   "cell_type": "code",
   "execution_count": 10,
   "metadata": {},
   "outputs": [
    {
     "data": {
      "text/plain": [
       "'/Users/memray/Project/keyphrase/OpenNMT-kpg/output/meng17-one2many-beam10-maxlen40/pred'"
      ]
     },
     "execution_count": 10,
     "metadata": {},
     "output_type": "execute_result"
    }
   ],
   "source": [
    "os.path.abspath(pred_dir)"
   ]
  },
  {
   "cell_type": "code",
   "execution_count": 11,
   "metadata": {},
   "outputs": [
    {
     "data": {
      "text/plain": [
       "True"
      ]
     },
     "execution_count": 11,
     "metadata": {},
     "output_type": "execute_result"
    }
   ],
   "source": [
    "os.path.exists(pred_dir)"
   ]
  },
  {
   "cell_type": "code",
   "execution_count": null,
   "metadata": {},
   "outputs": [],
   "source": []
  }
 ],
 "metadata": {
  "kernelspec": {
   "display_name": "Python 2",
   "language": "python",
   "name": "python2"
  },
  "language_info": {
   "codemirror_mode": {
    "name": "ipython",
    "version": 2
   },
   "file_extension": ".py",
   "mimetype": "text/x-python",
   "name": "python",
   "nbconvert_exporter": "python",
   "pygments_lexer": "ipython2",
   "version": "2.7.6"
  }
 },
 "nbformat": 4,
 "nbformat_minor": 0
}
