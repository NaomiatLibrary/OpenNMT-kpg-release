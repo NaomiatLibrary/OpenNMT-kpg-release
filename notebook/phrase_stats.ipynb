{
 "cells": [
  {
   "cell_type": "code",
   "execution_count": 14,
   "metadata": {},
   "outputs": [],
   "source": [
    "import json\n",
    "import tqdm\n"
   ]
  },
  {
   "cell_type": "code",
   "execution_count": 24,
   "metadata": {},
   "outputs": [],
   "source": [
    "pred_path = \"/Users/memray/Downloads/catseq_pred/kp20k.pred\"\n",
    "pred_path = \"/Users/memray/Downloads/catseqd_pred/kp20k.pred\"\n"
   ]
  },
  {
   "cell_type": "code",
   "execution_count": 29,
   "metadata": {},
   "outputs": [
    {
     "name": "stderr",
     "output_type": "stream",
     "text": [
      "6it [00:00, 56.71it/s]"
     ]
    },
    {
     "name": "stdout",
     "output_type": "stream",
     "text": [
      "[['feedback', 'vertex', 'set'], ['2', 'degenerate', 'graph']]\n",
      "[[619, 1374, 81], [87, 5750, 229]]\n",
      "[['analytical', 'modeling'], ['pending', 'cache'], ['mshrs']]\n",
      "[[737, 183], [13256, 985], [50016]]\n",
      "[['ectodermal'], ['aire']]\n",
      "[[50023], [32348]]\n",
      "[['solidification'], ['aluminium', 'casting']]\n",
      "[[11512], [10396, 6353]]\n",
      "[['rib'], ['cnc']]\n",
      "[[13188], [7038]]\n",
      "[['harmonic', 'balance'], ['grobner', 'base']]\n",
      "[[2358, 1650], [7736, 827]]\n",
      "[['graph', 'coloring'], ['tdma'], ['wireless', 'sensor', 'networks']]\n",
      "[[229, 2772], [6170], [238, 279, 74]]\n",
      "[['building', 'model'], ['model', 'as', 'a', 'service']]\n",
      "[[781, 31], [31, 26, 11, 177]]\n",
      "[['change', 'detection'], ['optical', 'flow', 'analysis']]\n",
      "[[540, 180], [693, 193, 52]]\n",
      "[['tail', 'asymptotics']]\n",
      "[[4222, 9521]]\n",
      "[['plane', 'sweep'], ['multicore']]\n",
      "[[1117, 6602], [3688]]\n",
      "[['user', 'perceptions'], ['information', 'technology', 'adoption']]\n",
      "[[121, 3148], [55, 245, 1652]]\n",
      "avg_num_pred_sents=796/11=72.363636\n",
      "num_topseq_pred_sents=23/11=2.090909\n"
     ]
    },
    {
     "name": "stderr",
     "output_type": "stream",
     "text": [
      "\n"
     ]
    }
   ],
   "source": [
    "num_pred_sents = 0\n",
    "num_topseq_pred_sents = 0\n",
    "num_doc = 0\n",
    "\n",
    "for l in tqdm.tqdm(open(pred_path, 'r')):\n",
    "    pred_dict = json.loads(l)\n",
    "#     print(pred_dict.keys())\n",
    "    print(pred_dict['topseq_pred_sents'])\n",
    "    print(pred_dict['topseq_preds'])\n",
    "#     print(pred_dict['pred_sents'])\n",
    "#     print(pred_dict['ori_pred_sents'])\n",
    "#     print(pred_dict['ori_preds'])\n",
    "    \n",
    "#     print(pred_dict['unique_pred_num'])\n",
    "    if num_doc > 10:\n",
    "        break\n",
    "   \n",
    "    num_doc += 1\n",
    "    num_pred_sents += len(pred_dict['pred_sents'])\n",
    "    num_topseq_pred_sents += len(pred_dict['topseq_pred_sents'])\n",
    "\n",
    "print('avg_num_pred_sents=%d/%d=%f' % (num_pred_sents, num_doc, float(num_pred_sents)/num_doc))\n",
    "print('num_topseq_pred_sents=%d/%d=%f' % (num_topseq_pred_sents, num_doc, float(num_topseq_pred_sents)/num_doc))"
   ]
  },
  {
   "cell_type": "code",
   "execution_count": null,
   "metadata": {},
   "outputs": [],
   "source": []
  }
 ],
 "metadata": {
  "kernelspec": {
   "display_name": "Python 3",
   "language": "python",
   "name": "python3"
  },
  "language_info": {
   "codemirror_mode": {
    "name": "ipython",
    "version": 3
   },
   "file_extension": ".py",
   "mimetype": "text/x-python",
   "name": "python",
   "nbconvert_exporter": "python",
   "pygments_lexer": "ipython3",
   "version": "3.6.1"
  }
 },
 "nbformat": 4,
 "nbformat_minor": 2
}
